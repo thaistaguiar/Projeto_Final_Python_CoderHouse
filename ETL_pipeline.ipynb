{
 "cells": [
  {
   "cell_type": "markdown",
   "metadata": {},
   "source": [
    "1. Instalação das bibliotecas necessárias"
   ]
  },
  {
   "cell_type": "code",
   "execution_count": 13,
   "metadata": {},
   "outputs": [
    {
     "name": "stdout",
     "output_type": "stream",
     "text": [
      "Requirement already satisfied: requests in c:\\users\\thaai\\appdata\\local\\programs\\python\\python312\\lib\\site-packages (2.32.3)\n",
      "Requirement already satisfied: charset-normalizer<4,>=2 in c:\\users\\thaai\\appdata\\local\\programs\\python\\python312\\lib\\site-packages (from requests) (3.3.2)\n",
      "Requirement already satisfied: idna<4,>=2.5 in c:\\users\\thaai\\appdata\\local\\programs\\python\\python312\\lib\\site-packages (from requests) (3.7)\n",
      "Requirement already satisfied: urllib3<3,>=1.21.1 in c:\\users\\thaai\\appdata\\local\\programs\\python\\python312\\lib\\site-packages (from requests) (2.2.1)\n",
      "Requirement already satisfied: certifi>=2017.4.17 in c:\\users\\thaai\\appdata\\local\\programs\\python\\python312\\lib\\site-packages (from requests) (2024.6.2)\n"
     ]
    },
    {
     "name": "stderr",
     "output_type": "stream",
     "text": [
      "\n",
      "[notice] A new release of pip is available: 24.0 -> 24.1.1\n",
      "[notice] To update, run: python.exe -m pip install --upgrade pip\n"
     ]
    },
    {
     "name": "stdout",
     "output_type": "stream",
     "text": [
      "Requirement already satisfied: pandas in c:\\users\\thaai\\appdata\\local\\programs\\python\\python312\\lib\\site-packages (2.2.2)\n",
      "Requirement already satisfied: numpy>=1.26.0 in c:\\users\\thaai\\appdata\\local\\programs\\python\\python312\\lib\\site-packages (from pandas) (1.26.4)\n",
      "Requirement already satisfied: python-dateutil>=2.8.2 in c:\\users\\thaai\\appdata\\roaming\\python\\python312\\site-packages (from pandas) (2.9.0.post0)\n",
      "Requirement already satisfied: pytz>=2020.1 in c:\\users\\thaai\\appdata\\local\\programs\\python\\python312\\lib\\site-packages (from pandas) (2024.1)\n",
      "Requirement already satisfied: tzdata>=2022.7 in c:\\users\\thaai\\appdata\\local\\programs\\python\\python312\\lib\\site-packages (from pandas) (2024.1)\n",
      "Requirement already satisfied: six>=1.5 in c:\\users\\thaai\\appdata\\roaming\\python\\python312\\site-packages (from python-dateutil>=2.8.2->pandas) (1.16.0)\n"
     ]
    },
    {
     "name": "stderr",
     "output_type": "stream",
     "text": [
      "\n",
      "[notice] A new release of pip is available: 24.0 -> 24.1.1\n",
      "[notice] To update, run: python.exe -m pip install --upgrade pip\n"
     ]
    },
    {
     "name": "stdout",
     "output_type": "stream",
     "text": [
      "Requirement already satisfied: winotify in c:\\users\\thaai\\appdata\\local\\programs\\python\\python312\\lib\\site-packages (1.1.0)\n"
     ]
    },
    {
     "name": "stderr",
     "output_type": "stream",
     "text": [
      "\n",
      "[notice] A new release of pip is available: 24.0 -> 24.1.1\n",
      "[notice] To update, run: python.exe -m pip install --upgrade pip\n"
     ]
    }
   ],
   "source": [
    "%pip install requests\n",
    "%pip install pandas \n",
    "%pip install winotify"
   ]
  },
  {
   "cell_type": "markdown",
   "metadata": {},
   "source": [
    "2. Importação das bibliotecas"
   ]
  },
  {
   "cell_type": "code",
   "execution_count": 3,
   "metadata": {},
   "outputs": [],
   "source": [
    "import pandas as pd\n",
    "import requests\n",
    "from winotify import Notification\n",
    "import json"
   ]
  },
  {
   "cell_type": "markdown",
   "metadata": {},
   "source": [
    "3. Extração das tabelas"
   ]
  },
  {
   "cell_type": "code",
   "execution_count": 27,
   "metadata": {},
   "outputs": [],
   "source": [
    "url1 = 'https://brasilapi.com.br/api/banks/v1'  ##banks\n",
    "url2 = 'https://brasilapi.com.br/api/feriados/v1/2024' ##feriados 2024\n",
    "url3 = 'https://brasilapi.com.br/api/cvm/corretoras/v1' ## corretora\n",
    "\n",
    "tipos_banco = requests.get(url1)\n",
    "tipos_feriados = requests.get(url2)\n",
    "tipos_corretora = requests.get(url3)"
   ]
  },
  {
   "cell_type": "markdown",
   "metadata": {},
   "source": [
    "4. Criação de notificação de erro"
   ]
  },
  {
   "cell_type": "markdown",
   "metadata": {},
   "source": [
    "4.1. Para a tabela de bancos"
   ]
  },
  {
   "cell_type": "code",
   "execution_count": 28,
   "metadata": {},
   "outputs": [],
   "source": [
    "titulo_erro1 = tipos_banco.status_code\n",
    "notificacao1 = Notification(app_id='Codigo Python CEP', title= titulo_erro1, msg='Não foi encontrado sua API', duration='long')\n",
    "\n",
    "if tipos_banco.status_code == 200:\n",
    "    data1 = tipos_banco.json()\n",
    "    \n",
    "else:\n",
    "   notificacao1.show()\n"
   ]
  },
  {
   "cell_type": "markdown",
   "metadata": {},
   "source": [
    "4.2. Para tabela de feriados"
   ]
  },
  {
   "cell_type": "code",
   "execution_count": 29,
   "metadata": {},
   "outputs": [],
   "source": [
    "titulo_erro2 = tipos_feriados.status_code\n",
    "notificacao2 = Notification(app_id='Codigo Python FERIADO', title= titulo_erro2, msg='Não foi encontrado sua API', duration='long')\n",
    "\n",
    "if tipos_feriados.status_code == 200:\n",
    "    data2 = tipos_feriados.json()\n",
    "    \n",
    "else:\n",
    "   notificacao2.show()\n"
   ]
  },
  {
   "cell_type": "markdown",
   "metadata": {},
   "source": [
    "4.3. Para tabela de corretora"
   ]
  },
  {
   "cell_type": "code",
   "execution_count": 30,
   "metadata": {},
   "outputs": [],
   "source": [
    "titulo_erro3 = tipos_corretora.status_code\n",
    "notificacao3 = Notification(app_id='Codigo Python CORRETORA', title= titulo_erro3, msg='Não foi encontrado sua API', duration='long')\n",
    "\n",
    "if tipos_corretora.status_code == 200:\n",
    "    data3 = tipos_corretora.json()\n",
    "    \n",
    "else:\n",
    "   notificacao3.show()\n",
    "   "
   ]
  },
  {
   "cell_type": "markdown",
   "metadata": {},
   "source": [
    "5. Visualização das tabelas"
   ]
  },
  {
   "cell_type": "markdown",
   "metadata": {},
   "source": [
    "5.1. Tabela de Bancos"
   ]
  },
  {
   "cell_type": "code",
   "execution_count": 31,
   "metadata": {},
   "outputs": [
    {
     "data": {
      "text/html": [
       "<div>\n",
       "<style scoped>\n",
       "    .dataframe tbody tr th:only-of-type {\n",
       "        vertical-align: middle;\n",
       "    }\n",
       "\n",
       "    .dataframe tbody tr th {\n",
       "        vertical-align: top;\n",
       "    }\n",
       "\n",
       "    .dataframe thead th {\n",
       "        text-align: right;\n",
       "    }\n",
       "</style>\n",
       "<table border=\"1\" class=\"dataframe\">\n",
       "  <thead>\n",
       "    <tr style=\"text-align: right;\">\n",
       "      <th></th>\n",
       "      <th>ispb</th>\n",
       "      <th>name</th>\n",
       "      <th>code</th>\n",
       "      <th>fullName</th>\n",
       "    </tr>\n",
       "  </thead>\n",
       "  <tbody>\n",
       "    <tr>\n",
       "      <th>0</th>\n",
       "      <td>00000000</td>\n",
       "      <td>BCO DO BRASIL S.A.</td>\n",
       "      <td>1.0</td>\n",
       "      <td>Banco do Brasil S.A.</td>\n",
       "    </tr>\n",
       "    <tr>\n",
       "      <th>1</th>\n",
       "      <td>00000208</td>\n",
       "      <td>BRB - BCO DE BRASILIA S.A.</td>\n",
       "      <td>70.0</td>\n",
       "      <td>BRB - BANCO DE BRASILIA S.A.</td>\n",
       "    </tr>\n",
       "    <tr>\n",
       "      <th>2</th>\n",
       "      <td>00038121</td>\n",
       "      <td>Selic</td>\n",
       "      <td>NaN</td>\n",
       "      <td>Banco Central do Brasil - Selic</td>\n",
       "    </tr>\n",
       "    <tr>\n",
       "      <th>3</th>\n",
       "      <td>00038166</td>\n",
       "      <td>Bacen</td>\n",
       "      <td>NaN</td>\n",
       "      <td>Banco Central do Brasil</td>\n",
       "    </tr>\n",
       "    <tr>\n",
       "      <th>4</th>\n",
       "      <td>00122327</td>\n",
       "      <td>SANTINVEST S.A. - CFI</td>\n",
       "      <td>539.0</td>\n",
       "      <td>SANTINVEST S.A. - CREDITO, FINANCIAMENTO E INV...</td>\n",
       "    </tr>\n",
       "  </tbody>\n",
       "</table>\n",
       "</div>"
      ],
      "text/plain": [
       "       ispb                        name   code  \\\n",
       "0  00000000          BCO DO BRASIL S.A.    1.0   \n",
       "1  00000208  BRB - BCO DE BRASILIA S.A.   70.0   \n",
       "2  00038121                       Selic    NaN   \n",
       "3  00038166                       Bacen    NaN   \n",
       "4  00122327       SANTINVEST S.A. - CFI  539.0   \n",
       "\n",
       "                                            fullName  \n",
       "0                               Banco do Brasil S.A.  \n",
       "1                       BRB - BANCO DE BRASILIA S.A.  \n",
       "2                    Banco Central do Brasil - Selic  \n",
       "3                            Banco Central do Brasil  \n",
       "4  SANTINVEST S.A. - CREDITO, FINANCIAMENTO E INV...  "
      ]
     },
     "execution_count": 31,
     "metadata": {},
     "output_type": "execute_result"
    }
   ],
   "source": [
    "bancos_full = pd.DataFrame(data1)\n",
    "bancos_full.head()\n"
   ]
  },
  {
   "cell_type": "markdown",
   "metadata": {},
   "source": [
    "5.2. Tabela de Feriados"
   ]
  },
  {
   "cell_type": "code",
   "execution_count": 32,
   "metadata": {},
   "outputs": [
    {
     "data": {
      "text/html": [
       "<div>\n",
       "<style scoped>\n",
       "    .dataframe tbody tr th:only-of-type {\n",
       "        vertical-align: middle;\n",
       "    }\n",
       "\n",
       "    .dataframe tbody tr th {\n",
       "        vertical-align: top;\n",
       "    }\n",
       "\n",
       "    .dataframe thead th {\n",
       "        text-align: right;\n",
       "    }\n",
       "</style>\n",
       "<table border=\"1\" class=\"dataframe\">\n",
       "  <thead>\n",
       "    <tr style=\"text-align: right;\">\n",
       "      <th></th>\n",
       "      <th>date</th>\n",
       "      <th>name</th>\n",
       "      <th>type</th>\n",
       "    </tr>\n",
       "  </thead>\n",
       "  <tbody>\n",
       "    <tr>\n",
       "      <th>0</th>\n",
       "      <td>2024-01-01</td>\n",
       "      <td>Confraternização mundial</td>\n",
       "      <td>national</td>\n",
       "    </tr>\n",
       "    <tr>\n",
       "      <th>1</th>\n",
       "      <td>2024-02-13</td>\n",
       "      <td>Carnaval</td>\n",
       "      <td>national</td>\n",
       "    </tr>\n",
       "    <tr>\n",
       "      <th>2</th>\n",
       "      <td>2024-03-29</td>\n",
       "      <td>Sexta-feira Santa</td>\n",
       "      <td>national</td>\n",
       "    </tr>\n",
       "    <tr>\n",
       "      <th>3</th>\n",
       "      <td>2024-03-31</td>\n",
       "      <td>Páscoa</td>\n",
       "      <td>national</td>\n",
       "    </tr>\n",
       "    <tr>\n",
       "      <th>4</th>\n",
       "      <td>2024-04-21</td>\n",
       "      <td>Tiradentes</td>\n",
       "      <td>national</td>\n",
       "    </tr>\n",
       "  </tbody>\n",
       "</table>\n",
       "</div>"
      ],
      "text/plain": [
       "         date                      name      type\n",
       "0  2024-01-01  Confraternização mundial  national\n",
       "1  2024-02-13                  Carnaval  national\n",
       "2  2024-03-29         Sexta-feira Santa  national\n",
       "3  2024-03-31                    Páscoa  national\n",
       "4  2024-04-21                Tiradentes  national"
      ]
     },
     "execution_count": 32,
     "metadata": {},
     "output_type": "execute_result"
    }
   ],
   "source": [
    "feriados_full = pd.DataFrame(data2)\n",
    "feriados_full.head()"
   ]
  },
  {
   "cell_type": "markdown",
   "metadata": {},
   "source": [
    "5.3. Tabela de Corretora"
   ]
  },
  {
   "cell_type": "code",
   "execution_count": 14,
   "metadata": {},
   "outputs": [
    {
     "data": {
      "text/html": [
       "<div>\n",
       "<style scoped>\n",
       "    .dataframe tbody tr th:only-of-type {\n",
       "        vertical-align: middle;\n",
       "    }\n",
       "\n",
       "    .dataframe tbody tr th {\n",
       "        vertical-align: top;\n",
       "    }\n",
       "\n",
       "    .dataframe thead th {\n",
       "        text-align: right;\n",
       "    }\n",
       "</style>\n",
       "<table border=\"1\" class=\"dataframe\">\n",
       "  <thead>\n",
       "    <tr style=\"text-align: right;\">\n",
       "      <th></th>\n",
       "      <th>cnpj</th>\n",
       "      <th>type</th>\n",
       "      <th>nome_social</th>\n",
       "      <th>nome_comercial</th>\n",
       "      <th>status</th>\n",
       "      <th>email</th>\n",
       "      <th>telefone</th>\n",
       "      <th>cep</th>\n",
       "      <th>pais</th>\n",
       "      <th>uf</th>\n",
       "      <th>municipio</th>\n",
       "      <th>bairro</th>\n",
       "      <th>complemento</th>\n",
       "      <th>logradouro</th>\n",
       "      <th>data_patrimonio_liquido</th>\n",
       "      <th>valor_patrimonio_liquido</th>\n",
       "      <th>codigo_cvm</th>\n",
       "      <th>data_inicio_situacao</th>\n",
       "      <th>data_registro</th>\n",
       "    </tr>\n",
       "  </thead>\n",
       "  <tbody>\n",
       "    <tr>\n",
       "      <th>0</th>\n",
       "      <td>76621457000185</td>\n",
       "      <td>CORRETORAS</td>\n",
       "      <td>4UM DTVM S.A.</td>\n",
       "      <td>4UM INVESTIMENTOS</td>\n",
       "      <td>CANCELADA</td>\n",
       "      <td>controle@4um.com.br</td>\n",
       "      <td>33519966</td>\n",
       "      <td>80420210</td>\n",
       "      <td>BRASIL</td>\n",
       "      <td>PR</td>\n",
       "      <td>CURITIBA</td>\n",
       "      <td>CENTRO</td>\n",
       "      <td>4º ANDAR</td>\n",
       "      <td>R. VISCONDE DO RIO BRANCO 1488</td>\n",
       "      <td>2005-12-31</td>\n",
       "      <td>4228660.18</td>\n",
       "      <td>2275</td>\n",
       "      <td>2006-10-05</td>\n",
       "      <td>1968-01-15</td>\n",
       "    </tr>\n",
       "    <tr>\n",
       "      <th>1</th>\n",
       "      <td>33817677000176</td>\n",
       "      <td>CORRETORAS</td>\n",
       "      <td>ABC BRASIL DISTRIBUIDORA DE TÍTULOS E VALORES ...</td>\n",
       "      <td>ABC BRASIL DTVM</td>\n",
       "      <td>CANCELADA</td>\n",
       "      <td>complianceregulatorio@abcbrasil.com.br</td>\n",
       "      <td>31702172</td>\n",
       "      <td>1453000</td>\n",
       "      <td></td>\n",
       "      <td>SP</td>\n",
       "      <td>SÃO PAULO</td>\n",
       "      <td>ITAIM BIBI</td>\n",
       "      <td>2º ANDAR</td>\n",
       "      <td>AV. CIDADE JARDIM, 803</td>\n",
       "      <td>2002-12-31</td>\n",
       "      <td>0.00</td>\n",
       "      <td>3514</td>\n",
       "      <td>2002-10-14</td>\n",
       "      <td>2002-10-14</td>\n",
       "    </tr>\n",
       "    <tr>\n",
       "      <th>2</th>\n",
       "      <td>10664027000132</td>\n",
       "      <td>CORRETORAS</td>\n",
       "      <td>ABERTURA CCVM LTDA</td>\n",
       "      <td>ABERTURA CCVM LTDA</td>\n",
       "      <td>CANCELADA</td>\n",
       "      <td></td>\n",
       "      <td></td>\n",
       "      <td>50010240</td>\n",
       "      <td>BRASIL</td>\n",
       "      <td>PE</td>\n",
       "      <td>RECIFE</td>\n",
       "      <td></td>\n",
       "      <td></td>\n",
       "      <td>R DO IMP.D.PEDRO II 239/CJ.102</td>\n",
       "      <td>1989-12-31</td>\n",
       "      <td>5995252.29</td>\n",
       "      <td>329</td>\n",
       "      <td>1990-06-12</td>\n",
       "      <td>1986-07-08</td>\n",
       "    </tr>\n",
       "    <tr>\n",
       "      <th>3</th>\n",
       "      <td>44527444000155</td>\n",
       "      <td>CORRETORAS</td>\n",
       "      <td>ABN AMRO CLEARING CORRETORA DE T-TULOS E VALOR...</td>\n",
       "      <td></td>\n",
       "      <td>EM FUNCIONAMENTO NORMAL</td>\n",
       "      <td>canal.comunicacao@br.abnamro.com</td>\n",
       "      <td>30737417</td>\n",
       "      <td>4551010</td>\n",
       "      <td></td>\n",
       "      <td>SP</td>\n",
       "      <td>SÃO PAULO</td>\n",
       "      <td>VILA OLIMPIA</td>\n",
       "      <td>11¦ ANDAR, CJ. 111</td>\n",
       "      <td>RUA FIDÛNCIO RAMOS, N¦ 302, TORRE B</td>\n",
       "      <td>2023-12-31</td>\n",
       "      <td>11122779.75</td>\n",
       "      <td>3794</td>\n",
       "      <td>2022-06-20</td>\n",
       "      <td>2022-06-20</td>\n",
       "    </tr>\n",
       "    <tr>\n",
       "      <th>4</th>\n",
       "      <td>33819590000138</td>\n",
       "      <td>CORRETORAS</td>\n",
       "      <td>AÇÃO S.A. CORRETORA DE VALORES E CÂMBIO</td>\n",
       "      <td>ACAO SA CVC</td>\n",
       "      <td>CANCELADA</td>\n",
       "      <td></td>\n",
       "      <td>5095755</td>\n",
       "      <td>20040040</td>\n",
       "      <td>BRASIL</td>\n",
       "      <td>RJ</td>\n",
       "      <td>RIO DE JANEIRO</td>\n",
       "      <td>CENTRO</td>\n",
       "      <td></td>\n",
       "      <td>PRAÇA OLAVO BILAC, 28/ SL. 608</td>\n",
       "      <td>2000-12-31</td>\n",
       "      <td>291862.38</td>\n",
       "      <td>1112</td>\n",
       "      <td>2001-04-11</td>\n",
       "      <td>1968-04-19</td>\n",
       "    </tr>\n",
       "  </tbody>\n",
       "</table>\n",
       "</div>"
      ],
      "text/plain": [
       "             cnpj        type  \\\n",
       "0  76621457000185  CORRETORAS   \n",
       "1  33817677000176  CORRETORAS   \n",
       "2  10664027000132  CORRETORAS   \n",
       "3  44527444000155  CORRETORAS   \n",
       "4  33819590000138  CORRETORAS   \n",
       "\n",
       "                                         nome_social      nome_comercial  \\\n",
       "0                                      4UM DTVM S.A.   4UM INVESTIMENTOS   \n",
       "1  ABC BRASIL DISTRIBUIDORA DE TÍTULOS E VALORES ...     ABC BRASIL DTVM   \n",
       "2                                 ABERTURA CCVM LTDA  ABERTURA CCVM LTDA   \n",
       "3  ABN AMRO CLEARING CORRETORA DE T-TULOS E VALOR...                       \n",
       "4            AÇÃO S.A. CORRETORA DE VALORES E CÂMBIO         ACAO SA CVC   \n",
       "\n",
       "                    status                                   email  telefone  \\\n",
       "0                CANCELADA                     controle@4um.com.br  33519966   \n",
       "1                CANCELADA  complianceregulatorio@abcbrasil.com.br  31702172   \n",
       "2                CANCELADA                                                     \n",
       "3  EM FUNCIONAMENTO NORMAL        canal.comunicacao@br.abnamro.com  30737417   \n",
       "4                CANCELADA                                           5095755   \n",
       "\n",
       "        cep    pais  uf       municipio        bairro         complemento  \\\n",
       "0  80420210  BRASIL  PR        CURITIBA        CENTRO            4º ANDAR   \n",
       "1   1453000          SP       SÃO PAULO    ITAIM BIBI            2º ANDAR   \n",
       "2  50010240  BRASIL  PE          RECIFE                                     \n",
       "3   4551010          SP       SÃO PAULO  VILA OLIMPIA  11¦ ANDAR, CJ. 111   \n",
       "4  20040040  BRASIL  RJ  RIO DE JANEIRO        CENTRO                       \n",
       "\n",
       "                            logradouro data_patrimonio_liquido  \\\n",
       "0       R. VISCONDE DO RIO BRANCO 1488              2005-12-31   \n",
       "1               AV. CIDADE JARDIM, 803              2002-12-31   \n",
       "2       R DO IMP.D.PEDRO II 239/CJ.102              1989-12-31   \n",
       "3  RUA FIDÛNCIO RAMOS, N¦ 302, TORRE B              2023-12-31   \n",
       "4       PRAÇA OLAVO BILAC, 28/ SL. 608              2000-12-31   \n",
       "\n",
       "  valor_patrimonio_liquido codigo_cvm data_inicio_situacao data_registro  \n",
       "0               4228660.18       2275           2006-10-05    1968-01-15  \n",
       "1                     0.00       3514           2002-10-14    2002-10-14  \n",
       "2               5995252.29        329           1990-06-12    1986-07-08  \n",
       "3              11122779.75       3794           2022-06-20    2022-06-20  \n",
       "4                291862.38       1112           2001-04-11    1968-04-19  "
      ]
     },
     "execution_count": 14,
     "metadata": {},
     "output_type": "execute_result"
    }
   ],
   "source": [
    "corretora_full = pd.DataFrame(data3)\n",
    "corretora_full.head()"
   ]
  }
 ],
 "metadata": {
  "kernelspec": {
   "display_name": "base",
   "language": "python",
   "name": "python3"
  },
  "language_info": {
   "codemirror_mode": {
    "name": "ipython",
    "version": 3
   },
   "file_extension": ".py",
   "mimetype": "text/x-python",
   "name": "python",
   "nbconvert_exporter": "python",
   "pygments_lexer": "ipython3",
   "version": "3.12.3"
  }
 },
 "nbformat": 4,
 "nbformat_minor": 2
}
